{
 "cells": [
  {
   "cell_type": "code",
   "execution_count": 54,
   "metadata": {},
   "outputs": [],
   "source": [
    "import numpy as np\n",
    "from mpl_toolkits import mplot3d\n",
    "%matplotlib inline\n",
    "import matplotlib.pyplot as plt\n",
    "from numpy.linalg import svd\n",
    "from numpy.linalg import lstsq\n",
    "from scipy.spatial.distance import cdist\n",
    "%load_ext autoreload\n",
    "%autoreload 2\n",
    "\n",
    "def clean_matrix(X, tol=1e-14):\n",
    "    '''\n",
    "    \n",
    "    clean small values in a matrix\n",
    "    '''            \n",
    "    X[abs(X)<tol] = 0.\n",
    "    return X\n",
    "\n",
    "def calculate_svd_solution(A,b):\n",
    "    U, S, V = svd(A)\n",
    "    clean_matrix(U)\n",
    "    clean_matrix(S)\n",
    "    clean_matrix(V)\n",
    "    S_inv = np.zeros((A.T.shape))\n",
    "    for i in range(min(A.T.shape)):\n",
    "        if S[i] != 0:\n",
    "            S_inv[i, i] = 1./S[i]\n",
    "    x = np.matmul(np.transpose(V), np.matmul(S_inv, np.matmul(np.transpose(U), b)))\n",
    "    return x\n",
    "\n",
    "def getZ(X, Y, W):\n",
    "    return W[0]*X+W[1]*Y+W[2]\n",
    "\n",
    "def smoothness(best_W_list, X, y):\n",
    "    p = None\n",
    "    for W in best_W_list:\n",
    "        best_W = W[\"W\"]\n",
    "        if p is None:\n",
    "            p = np.abs(X.dot(best_W)-y)/np.sqrt(best_W[0]**2+best_W[1]**2+1)\n",
    "        else:\n",
    "            p = np.concatenate([p, np.abs(X.dot(best_W)-y)/np.sqrt(best_W[0]**2+best_W[1]**2+1)], axis=1)\n",
    "    p = np.argmin(p, axis=1)\n",
    "    mean_dist = []\n",
    "    for i in range(4):\n",
    "        ids = (p == i)\n",
    "        best_W = best_W_list[i][\"W\"]\n",
    "        mean = np.mean(np.abs(X[ids].dot(best_W)-y[ids])/np.sqrt(best_W[0]**2+best_W[1]**2+1))\n",
    "        mean_dist.append(mean)\n",
    "    \n",
    "    print(mean_dist)\n",
    "    print(best_W_list[np.argmin(mean_dist)][\"W\"])"
   ]
  },
  {
   "cell_type": "code",
   "execution_count": 18,
   "metadata": {},
   "outputs": [
    {
     "data": {
      "image/png": "[encoded data removed]",
      "text/plain": [
       "<Figure size 432x288 with 1 Axes>"
      ]
     },
     "metadata": {
      "needs_background": "light"
     },
     "output_type": "display_data"
    }
   ],
   "source": [
    "from scipy.stats import ortho_group\n",
    "R1 = ortho_group.rvs(dim=3)\n",
    "R2 = ortho_group.rvs(dim=3)\n",
    "fig = plt.figure()\n",
    "ax = plt.axes(projection='3d')\n",
    "\n",
    "clear_table = np.loadtxt(\"./data/clear_table.txt\")\n",
    "clear_hallway = np.loadtxt(\"./data/clean_hallway.txt\")\n",
    "selected1 = np.random.choice(clear_table.shape[0], 200)\n",
    "selected2 = np.random.choice(clear_hallway.shape[0], 200)\n",
    "clear_table = clear_table[selected1]\n",
    "clear_hallway = clear_hallway[selected2]\n",
    "clear_table_ = clear_table.dot(R1)\n",
    "clear_hallway_ = clear_hallway.dot(R2)\n",
    "# X1 = np.concatenate([clear_table[:, [0,2]], np.ones((clear_table.shape[0],1))], axis=1)\n",
    "# y1 = clear_table[:, [1]]\n",
    "# X2 = np.concatenate([clear_hallway[:, [0,2]], np.ones((clear_hallway.shape[0],1))], axis=1)\n",
    "# y2 = clear_hallway[:, [1]]\n",
    "ax = plt.axes(projection='3d')\n",
    "ax.scatter3D(clear_table_[:,0], clear_table_[:,2], clear_table_[:,1], c='r', s=0.1, label=\"object 1\")\n",
    "ax.scatter3D(clear_hallway_[:,0], clear_hallway_[:,2], clear_hallway_[:,1], c='b', s=0.1, label=\"object 2\")\n",
    "plt.axis(\"off\")\n",
    "plt.savefig(\"proposal_2.png\", bbox_inches=\"tight\")"
   ]
  },
  {
   "cell_type": "code",
   "execution_count": 19,
   "metadata": {},
   "outputs": [],
   "source": [
    "orig = np.concatenate([clear_hallway, clear_table], axis=0)\n",
    "transformed = np.concatenate([clear_hallway_, clear_table_], axis=0)\n",
    "# rand1 = np.random.permutation(orig.shape[0])\n",
    "# rand2 = np.random.permutation(transformed.shape[0])\n",
    "# orig = orig[rand1]\n",
    "# transformed = transformed[rand2]"
   ]
  },
  {
   "cell_type": "code",
   "execution_count": 20,
   "metadata": {},
   "outputs": [],
   "source": [
    "a = np.expand_dims(orig, axis=1).repeat(orig.shape[0], axis=1)\n",
    "b = np.transpose(a, [1,0,2])\n",
    "feat1 = np.sqrt(np.sum((a-b)**2, axis=2))\n",
    "a = np.expand_dims(transformed, axis=1).repeat(transformed.shape[0], axis=1)\n",
    "b = np.transpose(a, [1,0,2])\n",
    "feat2 = np.sqrt(np.sum((a-b)**2, axis=2))"
   ]
  },
  {
   "cell_type": "code",
   "execution_count": 21,
   "metadata": {},
   "outputs": [
    {
     "data": {
      "text/plain": [
       "(400, 3)"
      ]
     },
     "execution_count": 21,
     "metadata": {},
     "output_type": "execute_result"
    }
   ],
   "source": [
    "orig.shape"
   ]
  },
  {
   "cell_type": "code",
   "execution_count": 22,
   "metadata": {},
   "outputs": [
    {
     "data": {
      "text/plain": [
       "(400, 400)"
      ]
     },
     "execution_count": 22,
     "metadata": {},
     "output_type": "execute_result"
    }
   ],
   "source": [
    "feat1.shape"
   ]
  },
  {
   "cell_type": "code",
   "execution_count": 23,
   "metadata": {},
   "outputs": [
    {
     "data": {
      "text/plain": [
       "(400, 400)"
      ]
     },
     "execution_count": 23,
     "metadata": {},
     "output_type": "execute_result"
    }
   ],
   "source": [
    "feat2.shape"
   ]
  },
  {
   "cell_type": "code",
   "execution_count": 24,
   "metadata": {},
   "outputs": [],
   "source": [
    "dm = cdist(feat1, feat2, lambda u, v: len(np.intersect1d(u, v)))"
   ]
  },
  {
   "cell_type": "code",
   "execution_count": 25,
   "metadata": {},
   "outputs": [],
   "source": [
    "match = np.argmax(dm, axis=1)"
   ]
  },
  {
   "cell_type": "code",
   "execution_count": 26,
   "metadata": {},
   "outputs": [
    {
     "data": {
      "text/plain": [
       "array([  0,   1,   2,   0,   4,   5,   6,   7,   8,   9,   0,  11,  12,\n",
       "        13,  14,  15,  16,  17,  18,  19,  20,  21,  22,  23,  24,  25,\n",
       "        26,  27,  28,  29,  30,  31,  32,  33,  34,  19,  36,  37,  38,\n",
       "        39,  40,  41,  42,  43,   0,  45,  46,  47,   0,  49,   0,  51,\n",
       "        52,  53,  54,  55,  56,  57,  58,  59,  19,  61,  62,  63,  64,\n",
       "        65,  52,  67,   0,  69,  70,  71,  72,  73,  74,  75,   0,  52,\n",
       "        78,  79,  80,  39,  82,  83,  84,   0,  86,  87,  88,   0,  33,\n",
       "        91,  92,  93,   0,  95,  96,  97,  98,  99, 100, 101, 102, 103,\n",
       "         0, 105, 106, 107, 108, 109,  87, 111,  64, 113, 114,  71, 116,\n",
       "        27, 118, 119, 120, 121, 122, 123, 124,   0,   0, 127, 127, 129,\n",
       "       130, 131, 132, 133, 134, 135, 136, 137, 138, 139, 140, 141, 142,\n",
       "         0, 144, 145, 146, 147, 148, 149, 114, 151,   0, 153, 154, 155,\n",
       "       156, 157, 158, 159, 160, 139,   0,  87, 164, 165,   0, 134, 168,\n",
       "       169, 170, 171, 172, 173,   0, 175, 176, 102, 178, 179, 180, 181,\n",
       "       182, 183, 184, 185, 186, 187, 188, 189, 190, 191, 192, 193, 194,\n",
       "       195, 196, 197, 198, 199, 200, 201, 202, 203, 204, 205, 206, 207,\n",
       "       208, 209, 210, 211, 212, 213, 214, 215, 216, 217, 218, 219, 220,\n",
       "       221, 222, 223, 224, 225, 226, 227, 228, 229, 230, 231, 232, 233,\n",
       "       234, 235, 236, 237, 238, 239, 240, 241, 242, 243, 244, 245, 246,\n",
       "       247, 248, 249, 250, 251, 252, 253, 254, 255, 256, 257, 258, 259,\n",
       "       260, 261, 262, 263, 264, 265, 266, 267, 268, 269, 270, 271, 272,\n",
       "       273, 274, 275, 276, 277, 278, 279, 280, 281, 282, 283, 284, 285,\n",
       "       286, 287, 288, 289, 290, 291, 292, 293, 294, 295, 296, 297, 298,\n",
       "       299, 300, 301, 302, 303, 304, 305, 306, 307, 308, 309, 310, 311,\n",
       "       312, 313, 314, 315, 316, 317, 318, 319, 320, 321, 322, 323, 324,\n",
       "       325, 326, 327, 328, 329, 330, 331, 332, 333, 334, 335, 336, 337,\n",
       "       338, 339, 340, 341, 342, 343, 344, 345, 346, 347, 348, 349, 350,\n",
       "       351, 352, 351, 354, 355, 356, 357, 358, 359, 360, 361, 362, 363,\n",
       "       364, 365, 366, 328, 368, 369, 370, 371, 372, 373, 374, 375, 376,\n",
       "       377, 378, 379, 380, 381, 382, 383, 384, 385, 386, 387, 388, 389,\n",
       "       390, 391, 392, 393, 394, 395, 396, 397, 398, 399])"
      ]
     },
     "execution_count": 26,
     "metadata": {},
     "output_type": "execute_result"
    }
   ],
   "source": [
    "match"
   ]
  },
  {
   "cell_type": "code",
   "execution_count": 27,
   "metadata": {},
   "outputs": [
    {
     "data": {
      "text/plain": [
       "364"
      ]
     },
     "execution_count": 27,
     "metadata": {},
     "output_type": "execute_result"
    }
   ],
   "source": [
    "((match - np.arange(400)) == 0).sum()"
   ]
  },
  {
   "cell_type": "code",
   "execution_count": 99,
   "metadata": {},
   "outputs": [],
   "source": [
    "from src.clustering import cluster"
   ]
  },
  {
   "cell_type": "code",
   "execution_count": 168,
   "metadata": {},
   "outputs": [],
   "source": [
    "result_idx = cluster(orig, transformed, match, thres = 1, iters = 30)"
   ]
  },
  {
   "cell_type": "code",
   "execution_count": 169,
   "metadata": {},
   "outputs": [],
   "source": [
    "(r_hw, _) = clear_hallway.shape\n",
    "(r_ct, _) = clear_table.shape\n",
    "initial_idx = np.concatenate((np.ones((r_hw, 1)), np.zeros((r_ct, 1))), axis=0).astype(int).reshape(-1)"
   ]
  },
  {
   "cell_type": "code",
   "execution_count": 170,
   "metadata": {},
   "outputs": [
    {
     "data": {
      "text/plain": [
       "0.725"
      ]
     },
     "execution_count": 170,
     "metadata": {},
     "output_type": "execute_result"
    }
   ],
   "source": [
    "(result_idx == initial_idx).sum() / (r_hw + r_ct)"
   ]
  },
  {
   "cell_type": "code",
   "execution_count": 167,
   "metadata": {},
   "outputs": [
    {
     "name": "stdout",
     "output_type": "stream",
     "text": [
      "Hallway 200, Clear Table 200\n"
     ]
    }
   ],
   "source": [
    "print(\"Hallway {}, Clear Table {}\".format(r_hw, r_ct))"
   ]
  },
  {
   "cell_type": "code",
   "execution_count": null,
   "metadata": {},
   "outputs": [],
   "source": []
  },
  {
   "cell_type": "code",
   "execution_count": null,
   "metadata": {},
   "outputs": [],
   "source": []
  }
 ],
 "metadata": {
  "kernelspec": {
   "display_name": "Python 3",
   "language": "python",
   "name": "python3"
  },
  "language_info": {
   "codemirror_mode": {
    "name": "ipython",
    "version": 3
   },
   "file_extension": ".py",
   "mimetype": "text/x-python",
   "name": "python",
   "nbconvert_exporter": "python",
   "pygments_lexer": "ipython3",
   "version": "3.8.5"
  }
 },
 "nbformat": 4,
 "nbformat_minor": 4
}
