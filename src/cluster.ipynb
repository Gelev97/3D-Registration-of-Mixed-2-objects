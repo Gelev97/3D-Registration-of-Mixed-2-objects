{
 "cells": [
  {
   "cell_type": "code",
   "execution_count": 39,
   "metadata": {},
   "outputs": [],
   "source": [
    "import numpy as np\n",
    "from mpl_toolkits import mplot3d\n",
    "%matplotlib inline\n",
    "import matplotlib.pyplot as plt\n",
    "from numpy.linalg import svd\n",
    "from numpy.linalg import lstsq\n",
    "from scipy.spatial.distance import cdist\n",
    "%load_ext autoreload\n",
    "%autoreload 2\n",
    "\n",
    "def clean_matrix(X, tol=1e-14):\n",
    "    '''\n",
    "    \n",
    "    clean small values in a matrix\n",
    "    '''            \n",
    "    X[abs(X)<tol] = 0.\n",
    "    return X\n",
    "\n",
    "def calculate_svd_solution(A,b):\n",
    "    U, S, V = svd(A)\n",
    "    clean_matrix(U)\n",
    "    clean_matrix(S)\n",
    "    clean_matrix(V)\n",
    "    S_inv = np.zeros((A.T.shape))\n",
    "    for i in range(min(A.T.shape)):\n",
    "        if S[i] != 0:\n",
    "            S_inv[i, i] = 1./S[i]\n",
    "    x = np.matmul(np.transpose(V), np.matmul(S_inv, np.matmul(np.transpose(U), b)))\n",
    "    return x\n",
    "\n",
    "def getZ(X, Y, W):\n",
    "    return W[0]*X+W[1]*Y+W[2]\n",
    "\n",
    "def smoothness(best_W_list, X, y):\n",
    "    p = None\n",
    "    for W in best_W_list:\n",
    "        best_W = W[\"W\"]\n",
    "        if p is None:\n",
    "            p = np.abs(X.dot(best_W)-y)/np.sqrt(best_W[0]**2+best_W[1]**2+1)\n",
    "        else:\n",
    "            p = np.concatenate([p, np.abs(X.dot(best_W)-y)/np.sqrt(best_W[0]**2+best_W[1]**2+1)], axis=1)\n",
    "    p = np.argmin(p, axis=1)\n",
    "    mean_dist = []\n",
    "    for i in range(4):\n",
    "        ids = (p == i)\n",
    "        best_W = best_W_list[i][\"W\"]\n",
    "        mean = np.mean(np.abs(X[ids].dot(best_W)-y[ids])/np.sqrt(best_W[0]**2+best_W[1]**2+1))\n",
    "        mean_dist.append(mean)\n",
    "    \n",
    "    print(mean_dist)\n",
    "    print(best_W_list[np.argmin(mean_dist)][\"W\"])"
   ]
  },
  {
   "cell_type": "code",
   "execution_count": 102,
   "metadata": {},
   "outputs": [
    {
     "data": {
      "text/plain": [
       "(-2.6098293909612758,\n",
       " 3.545005967852316,\n",
       " -1.5097781037191793,\n",
       " 0.7374441271034977)"
      ]
     },
     "execution_count": 102,
     "metadata": {},
     "output_type": "execute_result"
    },
    {
     "data": {
      "image/png": "[encoded data removed]",
      "text/plain": [
       "<Figure size 432x288 with 1 Axes>"
      ]
     },
     "metadata": {
      "needs_background": "light"
     },
     "output_type": "display_data"
    }
   ],
   "source": [
    "from scipy.stats import ortho_group\n",
    "R1 = ortho_group.rvs(dim=3)\n",
    "R2 = ortho_group.rvs(dim=3)\n",
    "fig = plt.figure()\n",
    "ax = plt.axes(projection='3d')\n",
    "\n",
    "clear_table = np.loadtxt(\"./data/clear_table.txt\")\n",
    "clear_hallway = np.loadtxt(\"./data/clean_hallway.txt\")\n",
    "selected1 = np.random.choice(clear_table.shape[0], 200, replace=False)\n",
    "selected2 = np.random.choice(clear_hallway.shape[0], 200, replace=False)\n",
    "clear_table = clear_table[selected1]\n",
    "clear_hallway = clear_hallway[selected2]\n",
    "clear_table_ = clear_table.dot(R1)\n",
    "clear_hallway_ = clear_hallway.dot(R2)\n",
    "# X1 = np.concatenate([clear_table[:, [0,2]], np.ones((clear_table.shape[0],1))], axis=1)\n",
    "# y1 = clear_table[:, [1]]\n",
    "# X2 = np.concatenate([clear_hallway[:, [0,2]], np.ones((clear_hallway.shape[0],1))], axis=1)\n",
    "# y2 = clear_hallway[:, [1]]\n",
    "ax = plt.axes(projection='3d')\n",
    "ax.scatter3D(clear_table_[:,0], clear_table_[:,2], clear_table_[:,1], c='r', s=0.1, label=\"object 1\")\n",
    "ax.scatter3D(clear_hallway_[:,0], clear_hallway_[:,2], clear_hallway_[:,1], c='b', s=0.1, label=\"object 2\")\n",
    "plt.axis(\"off\")\n",
    "# plt.savefig(\"proposal_2.png\", bbox_inches=\"tight\")"
   ]
  },
  {
   "cell_type": "code",
   "execution_count": 103,
   "metadata": {},
   "outputs": [],
   "source": [
    "orig = np.concatenate([clear_hallway, clear_table], axis=0)\n",
    "transformed = np.concatenate([clear_hallway_, clear_table_], axis=0)\n",
    "# rand1 = np.random.permutation(orig.shape[0])\n",
    "# rand2 = np.random.permutation(transformed.shape[0])\n",
    "# orig = orig[rand1]\n",
    "# transformed = transformed[rand2]"
   ]
  },
  {
   "cell_type": "code",
   "execution_count": 104,
   "metadata": {},
   "outputs": [],
   "source": [
    "def find_cluster(orig, transformed):\n",
    "    a = np.expand_dims(orig, axis=1).repeat(orig.shape[0], axis=1)\n",
    "    b = np.transpose(a, [1,0,2])\n",
    "    feat1 = np.sqrt(np.sum((a-b)**2, axis=2))\n",
    "    a = np.expand_dims(transformed, axis=1).repeat(transformed.shape[0], axis=1)\n",
    "    b = np.transpose(a, [1,0,2])\n",
    "    feat2 = np.sqrt(np.sum((a-b)**2, axis=2))\n",
    "#     dm = cdist(feat1, feat2, lambda u, v: len(np.intersect1d(u, v)))\n",
    "#     match = np.argmax(dm, axis=1)\n",
    "    point_num = orig.shape[0]\n",
    "    \n",
    "    cat = np.ones(point_num)*-1\n",
    "    \n",
    "    corres = np.ones(point_num)*-1\n",
    "    \n",
    "    unmatched_point = set(np.arange(point_num))\n",
    "    \n",
    "    cat_id = 0\n",
    "    \n",
    "    while len(unmatched_point)>0:\n",
    "        while True:\n",
    "            ref_point_index = np.random.choice(np.array(list(unmatched_point)), 4, replace=False)\n",
    "            dm = cdist(feat1[ref_point_index], feat2, lambda u, v: len(np.intersect1d(u, v)))\n",
    "            match = np.argmax(dm, axis=1)\n",
    "            m = feat1[ref_point_index, :][:, ref_point_index]\n",
    "            n = feat2[match, :][:, match]\n",
    "            if np.isclose(m,n).all():\n",
    "                break\n",
    "        ref_feat1 = feat1[ref_point_index, :].T  # shape (n,4)\n",
    "        ref_feat2 = feat2[match, :].T  # shape (n,4)\n",
    "        \n",
    "        dist = cdist(ref_feat1, ref_feat2)\n",
    "        \n",
    "        in_class = np.min(dist, axis=1) < 1e-9\n",
    "        matched_point = np.argmin(dist, axis=1)\n",
    "        cat[in_class] = cat_id\n",
    "        unmatched_point = unmatched_point - set(in_class.nonzero()[0])\n",
    "        corres[in_class] = matched_point[in_class]\n",
    "        \n",
    "        cat_id += 1\n",
    "    \n",
    "    return cat, corres"
   ]
  },
  {
   "cell_type": "code",
   "execution_count": 105,
   "metadata": {},
   "outputs": [],
   "source": [
    "cat, corres = find_cluster(orig, transformed)"
   ]
  },
  {
   "cell_type": "code",
   "execution_count": 27,
   "metadata": {},
   "outputs": [
    {
     "data": {
      "text/plain": [
       "364"
      ]
     },
     "execution_count": 27,
     "metadata": {},
     "output_type": "execute_result"
    }
   ],
   "source": [
    "((match - np.arange(400)) == 0).sum()"
   ]
  },
  {
   "cell_type": "code",
   "execution_count": 99,
   "metadata": {},
   "outputs": [],
   "source": [
    "from src.clustering import cluster"
   ]
  },
  {
   "cell_type": "code",
   "execution_count": 168,
   "metadata": {},
   "outputs": [],
   "source": [
    "result_idx = cluster(orig, transformed, match, thres = 1, iters = 30)"
   ]
  },
  {
   "cell_type": "code",
   "execution_count": 169,
   "metadata": {},
   "outputs": [],
   "source": [
    "(r_hw, _) = clear_hallway.shape\n",
    "(r_ct, _) = clear_table.shape\n",
    "initial_idx = np.concatenate((np.ones((r_hw, 1)), np.zeros((r_ct, 1))), axis=0).astype(int).reshape(-1)"
   ]
  },
  {
   "cell_type": "code",
   "execution_count": 170,
   "metadata": {},
   "outputs": [
    {
     "data": {
      "text/plain": [
       "0.725"
      ]
     },
     "execution_count": 170,
     "metadata": {},
     "output_type": "execute_result"
    }
   ],
   "source": [
    "(result_idx == initial_idx).sum() / (r_hw + r_ct)"
   ]
  },
  {
   "cell_type": "code",
   "execution_count": 167,
   "metadata": {},
   "outputs": [
    {
     "name": "stdout",
     "output_type": "stream",
     "text": [
      "Hallway 200, Clear Table 200\n"
     ]
    }
   ],
   "source": [
    "print(\"Hallway {}, Clear Table {}\".format(r_hw, r_ct))"
   ]
  },
  {
   "cell_type": "code",
   "execution_count": null,
   "metadata": {},
   "outputs": [],
   "source": []
  },
  {
   "cell_type": "code",
   "execution_count": null,
   "metadata": {},
   "outputs": [],
   "source": []
  }
 ],
 "metadata": {
  "kernelspec": {
   "display_name": "Python 3",
   "language": "python",
   "name": "python3"
  },
  "language_info": {
   "codemirror_mode": {
    "name": "ipython",
    "version": 3
   },
   "file_extension": ".py",
   "mimetype": "text/x-python",
   "name": "python",
   "nbconvert_exporter": "python",
   "pygments_lexer": "ipython3",
   "version": "3.8.5"
  }
 },
 "nbformat": 4,
 "nbformat_minor": 4
}
